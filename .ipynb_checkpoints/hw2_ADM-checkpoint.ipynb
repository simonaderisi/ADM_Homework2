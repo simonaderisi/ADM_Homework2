{
 "cells": [
  {
   "cell_type": "markdown",
   "id": "a2c35680-5988-440d-9683-5f8aa4c737f7",
   "metadata": {},
   "source": [
    "# **2 Homework ADM**\n",
    "#### Group #4\n",
    "Components of the group:\n",
    "* Capocello Erica\n",
    "* De Risi Simona\n",
    "* Petrucci Ilaria"
   ]
  },
  {
   "cell_type": "markdown",
   "id": "066f5b0b-f302-4d63-98ff-c523e2403170",
   "metadata": {},
   "source": [
    "## Research Questions"
   ]
  },
  {
   "cell_type": "code",
   "execution_count": null,
   "id": "e7e9d0f1-5e62-4af7-9588-44ae0b5a41ec",
   "metadata": {},
   "outputs": [],
   "source": []
  },
  {
   "cell_type": "markdown",
   "id": "665e2aa3-a054-4f12-b39d-7c49ba64c192",
   "metadata": {},
   "source": [
    "## Command Line Question"
   ]
  },
  {
   "cell_type": "markdown",
   "id": "d39e518b-3321-4974-997d-5d387ed125f7",
   "metadata": {},
   "source": [
    "## Algorithmic Questions"
   ]
  },
  {
   "cell_type": "code",
   "execution_count": null,
   "id": "6ccbc9de-1845-4cc7-a620-5a62a9b8443c",
   "metadata": {},
   "outputs": [],
   "source": []
  },
  {
   "cell_type": "code",
   "execution_count": null,
   "id": "01350591-0cb3-4f68-87d3-f8b1dc4a818e",
   "metadata": {},
   "outputs": [],
   "source": []
  },
  {
   "cell_type": "code",
   "execution_count": null,
   "id": "b2b601ef-daaa-4a06-8835-16482e32a211",
   "metadata": {},
   "outputs": [],
   "source": []
  },
  {
   "cell_type": "code",
   "execution_count": null,
   "id": "4609c952-59cc-408d-9418-178e680be7c8",
   "metadata": {},
   "outputs": [],
   "source": []
  },
  {
   "cell_type": "code",
   "execution_count": null,
   "id": "8c11875a-9072-4c8e-ab73-3c287c993f02",
   "metadata": {},
   "outputs": [],
   "source": []
  }
 ],
 "metadata": {
  "kernelspec": {
   "display_name": "Python 3 (ipykernel)",
   "language": "python",
   "name": "python3"
  },
  "language_info": {
   "codemirror_mode": {
    "name": "ipython",
    "version": 3
   },
   "file_extension": ".py",
   "mimetype": "text/x-python",
   "name": "python",
   "nbconvert_exporter": "python",
   "pygments_lexer": "ipython3",
   "version": "3.9.12"
  }
 },
 "nbformat": 4,
 "nbformat_minor": 5
}
