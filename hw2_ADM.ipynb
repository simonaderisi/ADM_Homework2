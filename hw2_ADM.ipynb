{
 "cells": [
  {
   "cell_type": "markdown",
   "id": "a2c35680-5988-440d-9683-5f8aa4c737f7",
   "metadata": {},
   "source": [
    "# **2 Homework ADM**\n",
    "#### Group #4\n",
    "Components of the group:\n",
    "* Capocello Erica\n",
    "* De Risi Simona\n",
    "* Petrucci Ilaria"
   ]
  },
  {
   "cell_type": "markdown",
   "id": "066f5b0b-f302-4d63-98ff-c523e2403170",
   "metadata": {},
   "source": [
    "## Research Questions"
   ]
  },
  {
   "cell_type": "markdown",
   "id": "3281f7eb-33c4-4baf-a8a3-935ead92a7a1",
   "metadata": {},
   "source": [
    "### RQ1\n",
    "*After collecting information, the Data Scientists have to know what dataset they are dealing with, so let's start with an Exploratory Data Analysis (EDA). What can you say about our datasets? Please summarise its main characteristics with visual and tabular methods.*"
   ]
  },
  {
   "cell_type": "code",
   "execution_count": 2,
   "id": "b2326f18-3731-4673-9563-428870747136",
   "metadata": {},
   "outputs": [],
   "source": [
    "#Erica"
   ]
  },
  {
   "cell_type": "markdown",
   "id": "516aeb5d-376b-44ca-9f23-a3bb843e16bf",
   "metadata": {},
   "source": [
    "### RQ2\n",
    "*Let's explore the dataset by finding simple insights regarding the profile and posts.*\n",
    "\n",
    "* Plot the number of posts for each profile in descending order.\n",
    "* What posts have the highest number of \"likes\"?\n",
    "* What posts have the most and the least number of comments?\n",
    "* How many posts include tagged locations, and how many do not? Show it using an appropriate chart and comment your results.\n",
    "* How many posts include only photos? How many also have videos?\n",
    "* What's the percentage of business accounts vs non-business? What can you interpret regarding that percentage?"
   ]
  },
  {
   "cell_type": "code",
   "execution_count": 3,
   "id": "618daa93-9cbd-4f7f-ad2a-d8ba33ed86c9",
   "metadata": {},
   "outputs": [],
   "source": [
    "#Ilaria"
   ]
  },
  {
   "cell_type": "markdown",
   "id": "a1e79c92-6716-463c-85f2-d34e2722d3bb",
   "metadata": {},
   "source": [
    "### RQ3\n",
    "*Now it's important to understand the most common times in which users publish their posts*\n",
    "\n",
    "* What is the most common time in which users publish their posts?\n",
    "* Create a function that receives a time intervals list as a parameter and returns a plot with the number of posts for each given interval.\n",
    "* Use the function that you created in the previous literal to plot the number of posts between the following time intervals:\n",
    "Initial time\tFinal time\n",
    "06:00:00\t10:59:59\n",
    "11:00:00\t13:59:59\n",
    "14:00:00\t16:59:59\n",
    "17:00:00\t19:59:59\n",
    "20:00:00\t23:59:59\n",
    "00:00:00\t02:59:59\n",
    "03:00:00\t05:59:59\n"
   ]
  },
  {
   "cell_type": "code",
   "execution_count": 2,
   "id": "c25c4f23-328e-43ee-b661-567885e996e0",
   "metadata": {},
   "outputs": [],
   "source": [
    "import pandas as pd\n",
    "import numpy as np\n",
    "from tqdm import tqdm\n",
    "from collections import Counter\n",
    "import datetime\n",
    "import matplotlib.pyplot as plt"
   ]
  },
  {
   "cell_type": "code",
   "execution_count": 43,
   "id": "3b9f7dd2-0bf5-4941-9023-ae273a1faea2",
   "metadata": {},
   "outputs": [
    {
     "name": "stderr",
     "output_type": "stream",
     "text": [
      "171it [06:57,  2.44s/it]"
     ]
    },
    {
     "name": "stdout",
     "output_type": "stream",
     "text": [
      "The most common time in which users publish their posts is:  21:00:09\n"
     ]
    },
    {
     "name": "stderr",
     "output_type": "stream",
     "text": [
      "\n"
     ]
    }
   ],
   "source": [
    "#initialize a counter for the times of the posts\n",
    "c = Counter()\n",
    "#divide in chunks the file\n",
    "for chunk in tqdm(pd.read_csv('~/Documents/Data_Science/ADM/homeworks/instagram_posts.csv', delimiter = '\\t', chunksize = 250000, parse_dates=['cts'], date_parser=pd.to_datetime)):\n",
    "    #update the counter with the times of the posts in the current chunk\n",
    "    chunk_times = [t.time() for t in chunk.cts if not pd.isnull(t)]\n",
    "    c.update(chunk_times)\n",
    "print(\"The most common time in which users publish their posts is: \", c.most_common(1)[0][0] )"
   ]
  },
  {
   "cell_type": "code",
   "execution_count": 63,
   "id": "9d175378-2c86-464f-9f9b-82c3b2591113",
   "metadata": {},
   "outputs": [
    {
     "name": "stderr",
     "output_type": "stream",
     "text": [
      "171it [07:50,  2.75s/it]"
     ]
    },
    {
     "name": "stdout",
     "output_type": "stream",
     "text": [
      "The most common time in which users publish their posts is:  18:00\n"
     ]
    },
    {
     "name": "stderr",
     "output_type": "stream",
     "text": [
      "\n"
     ]
    }
   ],
   "source": [
    "#or to be precised at the minute and not at the second:\n",
    "#initialize a counter for the times of the posts\n",
    "c2 = Counter()\n",
    "#divide in chunks the file\n",
    "for chunk in tqdm(pd.read_csv('~/Documents/Data_Science/ADM/homeworks/instagram_posts.csv', delimiter = '\\t', chunksize = 250000, parse_dates=['cts'], date_parser=pd.to_datetime)):\n",
    "    #update the counter with the times of the posts in the current chunk\n",
    "    chunk_times = [t.time().isoformat(timespec = 'minutes') for t in chunk.cts if not pd.isnull(t)]\n",
    "    c2.update(chunk_times)\n",
    "print(\"The most common time in which users publish their posts is: \", c2.most_common(1)[0][0] )\n"
   ]
  },
  {
   "cell_type": "code",
   "execution_count": null,
   "id": "4504f202-b271-42a5-888a-316f590ad5ac",
   "metadata": {},
   "outputs": [],
   "source": [
    "#other version with multithreading:\n",
    "\n",
    "import threading\n",
    "import _thread\n",
    "\n",
    "# Declraing a lock\n",
    "lock = threading.Lock()\n",
    "\n",
    "#initialize a counter for the times of the posts\n",
    "c_mt = Counter()\n",
    "\n",
    "#Function for the thread\n",
    "def update_counter(start_point):\n",
    "    global c_mt\n",
    "    chunk = pd.read_csv('~/Documents/Data_Science/ADM/homeworks/instagram_posts.csv', delimiter = '\\t', nrows=500000, skiprows=start_point)\n",
    "    #update the counter with the times of the posts in the current chunk\n",
    "    chunk_times = [t.time() for t in chunk.cts if not pd.isnull(t)]\n",
    "    lock.acquire()\n",
    "    c_mt.update(chunk_times)\n",
    "    lock.release()\n",
    "\n",
    "#divide in 8 chunks the file\n",
    "count = 0\n",
    "while(count<42710197):\n",
    "    for t in range(8):\n",
    "        _thread.start_new_thread(update_counter, (count,))\n",
    "        count += 500000\n",
    "    \n",
    "print(\"The most common time in which users publish their posts is: \", c_mt.most_common(1)[0][0] ) "
   ]
  },
  {
   "cell_type": "code",
   "execution_count": 3,
   "id": "345d8f6a-b0a2-4eb3-9aec-038f71ac51b7",
   "metadata": {},
   "outputs": [
    {
     "data": {
      "image/png": "[encoded data removed]",
      "text/plain": [
       "<Figure size 432x288 with 1 Axes>"
      ]
     },
     "metadata": {
      "needs_background": "light"
     },
     "output_type": "display_data"
    }
   ],
   "source": [
    "def plot_interval_posts(intervals, counter):\n",
    "    '''\n",
    "    Function that takes in input \n",
    "    - a list of time intervals  \n",
    "    - a Counter providing the number of posts of every possible time (among the ones in the file) \n",
    "    Returns the number of posts between each one of the time intervals\n",
    "    '''\n",
    "    #initialize the output array\n",
    "    val = np.zeros(len(intervals), dtype = int32)\n",
    "    #err = 0\n",
    "    #for every value in the Counter, check in which interval is comprehended\n",
    "    for ti in counter:\n",
    "        for interval, i in zip(intervals, range(7)):\n",
    "            if ti >= interval[0] and ti <= interval[1]:\n",
    "                val[i] += counter[ti]\n",
    "                break\n",
    "            #err+=1\n",
    "    #print(err)\n",
    "    return val\n",
    "\n",
    "#define the time intervals\n",
    "intervals = [(datetime.time(6,0,0), datetime.time(10,59,59)), (datetime.time(11,0,0), datetime.time(13,59,59)), \n",
    "             (datetime.time(14,0,0), datetime.time(16,59,59)), (datetime.time(17,0,0), datetime.time(19,59,59)),\n",
    "            (datetime.time(20,0,0), datetime.time(23,59,59)),(datetime.time(0,0,0), datetime.time(2,59,59)), (datetime.time(3,0,0), datetime.time(5,59,59))]\n",
    "\n",
    "#plot\n",
    "plt.bar(np.array([str(interval[0]) + '-'+str(interval[1]) for interval in intervals]),plot_interval_posts(intervals, c))\n",
    "plt.xticks(rotation=90)\n",
    "plt.show()"
   ]
  },
  {
   "cell_type": "markdown",
   "id": "715bb52b-856c-48d0-89e2-1163f49a5e44",
   "metadata": {},
   "source": [
    "### RQ4\n",
    "*n most cases, we will not have a consistent dataset, and the one we are dealing with is not an exception (ex. in the given datasets, you may not find the information of the profiles for some of the posts). So let’s enhance our analysis.*\n",
    "\n",
    "* Write a function that, given a profile_id, will be able to return the posts that belong to the given profile_id.\n",
    "* Write another function that, given an input n (an integer), will return the posts that belong to the n top posted profiles (top n profiles that * have posted the highest number of posts) that their data is available in the profile.csv using the previously written function.\n",
    "* What is the average number of \"likes\" and comments of the top 10 profiles with the highest number of posts which their information is available in profile.csv?\n",
    "* Plot the number of posts that these top 10 profiles have sent on Instagram in the given interval in question RQ3. Interpret the resulting chart."
   ]
  },
  {
   "cell_type": "code",
   "execution_count": 5,
   "id": "823ae16d-f04d-44e0-adeb-28da68c49c11",
   "metadata": {},
   "outputs": [],
   "source": [
    "#Ilaria"
   ]
  },
  {
   "cell_type": "markdown",
   "id": "815126e6-a418-4354-81ce-45a426463e7d",
   "metadata": {},
   "source": [
    "### RQ5\n",
    "*The most influential users are the ones with the highest number of “followers\", you can now look more into their activity.*\n",
    "\n",
    "* Plot the top 10 most popular users in terms of followers and their number of posts.\n",
    "* Who is the most influential user?\n",
    "* Have they posted anything with tagged locations? Extract the most frequent areas on their posts and plot the number of times each city has been visited.\n",
    "* How many pictures-only posts have they published? How many reels? (only videos) and how many with both contents? Provide the number as percentages and interpret those figures.\n",
    "* How many \"likes\" and comments did posts with only pictures receive? How about videos and mixed posts? Try to provide the average numbers and confront them with their followers amount, explaining what you can say from that comparison."
   ]
  },
  {
   "cell_type": "code",
   "execution_count": 6,
   "id": "cd715872-4399-4ff2-8843-9f92dc9f3e4f",
   "metadata": {},
   "outputs": [],
   "source": [
    "#Ilaria"
   ]
  },
  {
   "cell_type": "markdown",
   "id": "465fc2b6-da6c-44ce-a519-d22192da35f0",
   "metadata": {},
   "source": [
    "### RQ6\n",
    "*It's time to get information from the user posting effectiveness.*\n",
    "\n",
    "* What is the average time (days and minutes) a user lets pass before publishing another post? Plot the top 3 users that publish posts more frequently (calculate the average time that passes between posts), including their amount of followers and following. Provide insights from that chart.\n",
    "* Using the function you previously coded, plot the time intervals with the highest average number of “likes” and the ones with the highest average number of comments on posts."
   ]
  },
  {
   "cell_type": "code",
   "execution_count": 7,
   "id": "34eb0e7e-4378-4db0-8daf-a5d125f64925",
   "metadata": {},
   "outputs": [],
   "source": [
    "#Simona"
   ]
  },
  {
   "cell_type": "markdown",
   "id": "3aba4110-0164-4065-8759-11b2ad01018c",
   "metadata": {},
   "source": [
    "### RQ7\n",
    "*Of course, calculating probabilities is a job that any Data Scientist must know. So let's compute some engaging figures.*\n",
    "\n",
    "* What's the probability that a post receives more than 20% \"likes\" of the number of followers a user has?\n",
    "* Do users usually return to locations? Extract the probability that a user returns to a site after having posted it in the past. Does that probability make sense to you? Explain why or why not."
   ]
  },
  {
   "cell_type": "code",
   "execution_count": 8,
   "id": "809a1302-8363-4f95-818d-3ae1fee23bef",
   "metadata": {},
   "outputs": [],
   "source": [
    "#Erica"
   ]
  },
  {
   "cell_type": "markdown",
   "id": "77877d82-27c6-4088-8007-7b247096a69b",
   "metadata": {},
   "source": [
    "### RQ8\n",
    "*Every decision you take in a data-based environment should be reinforced with charts, statistical tests and analysis methods to check whether a hypothesis is correct or not.*\n",
    "\n",
    "* Does more “likes” also mean more comments? Plot a scatter plot of “likes” vs comments for posts.\n",
    "* Can you find any significant relationship between the time a user publishes a post and the number of comments and “likes”? Use an appropriate statistical test or technique and support your choice.\n",
    "* What’s the distribution of followers? Plot the empirical distribution of followers amongst all users and extract the mean, mode, and quantiles. Interpret those figures.\n",
    "* What are histograms, bar plots, scatterplots and pie charts used for?\n",
    "* What insights can you extract from a Box Plot?"
   ]
  },
  {
   "cell_type": "code",
   "execution_count": 9,
   "id": "1aac914e-cee9-4ef8-b204-62457dd87108",
   "metadata": {},
   "outputs": [],
   "source": [
    "#Erica"
   ]
  },
  {
   "cell_type": "markdown",
   "id": "549b11d4-17ce-4301-88bc-0d437cbc97e1",
   "metadata": {},
   "source": [
    "### Bonus points\n",
    "1. Sort the users in terms of number of followers and divide them into two groups: for the first group, take only the top 10% regarding \"followers\", and for the second one, take the rest. Now compare the mean of time intervals between posts for the two categories. Do you notice something relevant?\n",
    "\n",
    "2. Assume users publish their posts the same day pictures or videos are taken: Are there users that have visited the same location on the same day? How about the same week? Extract the results and explain them.\n",
    "\n",
    "3. Implement a text data analysis (also known as text mining) of the field \"description\" from instagram_posts.csv for descriptions written in English. Use appropriate visualizations and statistics to highlight the words (and probably the topics) provided for the users in that field."
   ]
  },
  {
   "cell_type": "code",
   "execution_count": 10,
   "id": "6be809f5-5681-45c3-af05-aaa8453296a6",
   "metadata": {},
   "outputs": [],
   "source": [
    "#Simona"
   ]
  },
  {
   "cell_type": "markdown",
   "id": "665e2aa3-a054-4f12-b39d-7c49ba64c192",
   "metadata": {},
   "source": [
    "## Command Line Question"
   ]
  },
  {
   "cell_type": "markdown",
   "id": "bd87ad1f-0491-4f0e-a5ab-a90294316204",
   "metadata": {},
   "source": [
    "#Simona"
   ]
  },
  {
   "cell_type": "markdown",
   "id": "cc817b0e-fdde-4623-b06e-31343d46ff41",
   "metadata": {},
   "source": [
    "## Algorithmic Questions"
   ]
  },
  {
   "cell_type": "markdown",
   "id": "bf246058-bb2e-4959-9ac7-56c1e2ab8610",
   "metadata": {},
   "source": [
    "### AQ1\n",
    "* What is the output of this algorithm? Describe the mechanism of the algorithm in detail . We do not want to know only its final result. (Describe one example on your own)\n",
    "* What is asymptotically (i.e., we are asking for big-O complexity) the algorithm's running time as a function of N?\n",
    "* Is this algorithm the optimal one to produce this output? If not, can you suggest a better algorithm to perform the same task?"
   ]
  },
  {
   "cell_type": "code",
   "execution_count": 11,
   "id": "bbb63d22-09f7-4a07-a84e-695417a00e88",
   "metadata": {},
   "outputs": [],
   "source": [
    "#Erica"
   ]
  },
  {
   "cell_type": "markdown",
   "id": "ca491ef7-ee33-44ef-bb14-2ab2bdc81480",
   "metadata": {},
   "source": [
    "### AQ2\n",
    "*Considering the following problem, answer the questions:*\n",
    "Alex has a ribbon of length N. He wants to cut the ribbon in a way that fulfils the following three conditions:\n",
    "\n",
    "* Each piece of the cut should have an integer length\n",
    "* He should at least cut the ribbon once\n",
    "* The multiplication of the length of all the pieces be the maximum possible\n",
    "Implement a recursive algorithm to help Alex find the maximum possible value after multiplying the length of the pieces. Explain your algorithm in detail.\n",
    "1. Show that the algorithm has exponential running time.\n",
    "2. Now provide a polynomial solution, based on dynamic programming, and compute its running-time complexity.\n",
    "3. Evaluate the running time of your algorithm for the sizes (Ns) in the range of [2, 25], plot the results, and interpret it (if you have implemented two algorithms, please include both in the plot and compare them).\n",
    "4. (Optional, mini bonus) Is the algorithm of question 3 optimal? If you belive it, can you prove it? If not, can you find a faster algorithm? In case you found a faster algorithm implement it and explain your algorithm in detail."
   ]
  },
  {
   "cell_type": "code",
   "execution_count": 12,
   "id": "01350591-0cb3-4f68-87d3-f8b1dc4a818e",
   "metadata": {},
   "outputs": [],
   "source": [
    "#Ilaria"
   ]
  }
 ],
 "metadata": {
  "kernelspec": {
   "display_name": "Python 3 (ipykernel)",
   "language": "python",
   "name": "python3"
  },
  "language_info": {
   "codemirror_mode": {
    "name": "ipython",
    "version": 3
   },
   "file_extension": ".py",
   "mimetype": "text/x-python",
   "name": "python",
   "nbconvert_exporter": "python",
   "pygments_lexer": "ipython3",
   "version": "3.9.12"
  }
 },
 "nbformat": 4,
 "nbformat_minor": 5
}
